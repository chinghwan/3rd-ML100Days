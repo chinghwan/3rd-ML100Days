{
 "cells": [
  {
   "cell_type": "markdown",
   "metadata": {},
   "source": [
    "## Work\n",
    "1. 請嘗試將 preproc_x 替換成以每筆資料的 min/max 進行標準化至 -1 ~ 1 間，再進行訓練\n",
    "2. 請嘗試將 mlp 疊更深 (e.g 5~10 層)，進行訓練後觀察 learning curve 的走勢\n",
    "3. (optional) 請改用 GPU 進行訓練 (如果你有 GPU 的話)，比較使用 CPU 與 GPU 的訓練速度"
   ]
  },
  {
   "cell_type": "code",
   "execution_count": 1,
   "metadata": {},
   "outputs": [
    {
     "name": "stdout",
     "output_type": "stream",
     "text": [
      "Mon Nov 25 11:21:14 2019       \n",
      "+-----------------------------------------------------------------------------+\n",
      "| NVIDIA-SMI 431.72       Driver Version: 431.72       CUDA Version: 10.1     |\n",
      "|-------------------------------+----------------------+----------------------+\n",
      "| GPU  Name            TCC/WDDM | Bus-Id        Disp.A | Volatile Uncorr. ECC |\n",
      "| Fan  Temp  Perf  Pwr:Usage/Cap|         Memory-Usage | GPU-Util  Compute M. |\n",
      "|===============================+======================+======================|\n",
      "|   0  GeForce GTX 1650   WDDM  | 00000000:01:00.0 Off |                  N/A |\n",
      "| N/A   42C    P8     1W /  N/A |    134MiB /  4096MiB |      0%      Default |\n",
      "+-------------------------------+----------------------+----------------------+\n",
      "                                                                               \n",
      "+-----------------------------------------------------------------------------+\n",
      "| Processes:                                                       GPU Memory |\n",
      "|  GPU       PID   Type   Process name                             Usage      |\n",
      "|=============================================================================|\n",
      "|  No running processes found                                                 |\n",
      "+-----------------------------------------------------------------------------+\n"
     ]
    }
   ],
   "source": [
    "## \n",
    "\"\"\"\n",
    "Your code here (optional)\n",
    "確認硬體資源\n",
    "\"\"\"\n",
    "!nvidia-smi\n"
   ]
  },
  {
   "cell_type": "code",
   "execution_count": 2,
   "metadata": {},
   "outputs": [
    {
     "name": "stderr",
     "output_type": "stream",
     "text": [
      "Using TensorFlow backend.\n"
     ]
    }
   ],
   "source": [
    "import os\n",
    "import keras\n",
    "\n",
    "# 請嘗試設定 GPU：os.environ\n",
    "os.environ[\"CUDA_VISIBLE_DEVICES\"] = \"0\""
   ]
  },
  {
   "cell_type": "code",
   "execution_count": 3,
   "metadata": {},
   "outputs": [],
   "source": [
    "train, test = keras.datasets.cifar10.load_data()"
   ]
  },
  {
   "cell_type": "code",
   "execution_count": 4,
   "metadata": {},
   "outputs": [],
   "source": [
    "## 資料前處理\n",
    "\"\"\"\n",
    "Your code here\n",
    "\"\"\"\n",
    "def preproc_x(x, flatten=True):\n",
    "    x = 2*(((x - x.min()) / (x.max() - x.min()))-0.5)\n",
    "    if flatten:\n",
    "        x = x.reshape((len(x), -1))\n",
    "    return x\n",
    "\n",
    "def preproc_y(y, num_classes=10):\n",
    "    if y.shape[-1] == 1:\n",
    "        y = keras.utils.to_categorical(y, num_classes)\n",
    "    return y  "
   ]
  },
  {
   "cell_type": "code",
   "execution_count": 5,
   "metadata": {},
   "outputs": [],
   "source": [
    "x_train, y_train = train\n",
    "x_test, y_test = test\n",
    "\n",
    "# Preproc the inputs\n",
    "x_train = preproc_x(x_train)\n",
    "x_test = preproc_x(x_test)\n",
    "\n",
    "# Preprc the outputs\n",
    "y_train = preproc_y(y_train)\n",
    "y_test = preproc_y(y_test)"
   ]
  },
  {
   "cell_type": "code",
   "execution_count": 6,
   "metadata": {},
   "outputs": [],
   "source": [
    "\"\"\"Code Here\n",
    "建立你的神經網路\n",
    "\"\"\"\n",
    "def build_mlp(input_shape, output_units=10, num_neurons=[512, 256, 128,128,128]):\n",
    "    input_layer = keras.layers.Input(input_shape)\n",
    "    \n",
    "    for i, n_units in enumerate(num_neurons):\n",
    "        if i == 0:\n",
    "            x = keras.layers.Dense(units=n_units, activation=\"relu\", name=\"hidden_layer\"+str(i+1))(input_layer)\n",
    "        else:\n",
    "            x = keras.layers.Dense(units=n_units, activation=\"relu\", name=\"hidden_layer\"+str(i+1))(x)\n",
    "    \n",
    "    out = keras.layers.Dense(units=output_units, activation=\"softmax\", name=\"output\")(x)\n",
    "    \n",
    "    model = keras.models.Model(inputs=[input_layer], outputs=[out])\n",
    "    return model\n",
    "    input_layer = keras.layers.Input(input_shape)\n",
    "    \n",
    "    for i, n_units in enumerate(num_neurons):\n",
    "        if i == 0:\n",
    "            x = keras.layers.Dense(units=n_units, activation=\"relu\", name=\"hidden_layer\"+str(i+1))(input_layer)\n",
    "        else:\n",
    "            x = keras.layers.Dense(units=n_units, activation=\"relu\", name=\"hidden_layer\"+str(i+1))(x)\n",
    "    \n",
    "    out = keras.layers.Dense(units=output_units, activation=\"softmax\", name=\"output\")(x)\n",
    "    \n",
    "    model = keras.models.Model(inputs=[input_layer], outputs=[out])\n",
    "    return model\n",
    " "
   ]
  },
  {
   "cell_type": "code",
   "execution_count": 7,
   "metadata": {},
   "outputs": [
    {
     "name": "stdout",
     "output_type": "stream",
     "text": [
      "WARNING:tensorflow:From C:\\Users\\mouu\\Anaconda3\\envs\\GPU\\lib\\site-packages\\keras\\backend\\tensorflow_backend.py:66: The name tf.get_default_graph is deprecated. Please use tf.compat.v1.get_default_graph instead.\n",
      "\n",
      "WARNING:tensorflow:From C:\\Users\\mouu\\Anaconda3\\envs\\GPU\\lib\\site-packages\\keras\\backend\\tensorflow_backend.py:541: The name tf.placeholder is deprecated. Please use tf.compat.v1.placeholder instead.\n",
      "\n",
      "WARNING:tensorflow:From C:\\Users\\mouu\\Anaconda3\\envs\\GPU\\lib\\site-packages\\keras\\backend\\tensorflow_backend.py:4432: The name tf.random_uniform is deprecated. Please use tf.random.uniform instead.\n",
      "\n",
      "Model: \"model_1\"\n",
      "_________________________________________________________________\n",
      "Layer (type)                 Output Shape              Param #   \n",
      "=================================================================\n",
      "input_1 (InputLayer)         (None, 3072)              0         \n",
      "_________________________________________________________________\n",
      "hidden_layer1 (Dense)        (None, 512)               1573376   \n",
      "_________________________________________________________________\n",
      "hidden_layer2 (Dense)        (None, 256)               131328    \n",
      "_________________________________________________________________\n",
      "hidden_layer3 (Dense)        (None, 128)               32896     \n",
      "_________________________________________________________________\n",
      "hidden_layer4 (Dense)        (None, 128)               16512     \n",
      "_________________________________________________________________\n",
      "hidden_layer5 (Dense)        (None, 128)               16512     \n",
      "_________________________________________________________________\n",
      "output (Dense)               (None, 10)                1290      \n",
      "=================================================================\n",
      "Total params: 1,771,914\n",
      "Trainable params: 1,771,914\n",
      "Non-trainable params: 0\n",
      "_________________________________________________________________\n"
     ]
    }
   ],
   "source": [
    "model = build_mlp(input_shape=x_train.shape[1:])\n",
    "model.summary()"
   ]
  },
  {
   "cell_type": "code",
   "execution_count": 8,
   "metadata": {},
   "outputs": [],
   "source": [
    "## 超參數設定\n",
    "LEARNING_RATE = 0.001\n",
    "EPOCHS = 100\n",
    "BATCH_SIZE = 256"
   ]
  },
  {
   "cell_type": "code",
   "execution_count": 9,
   "metadata": {},
   "outputs": [
    {
     "name": "stdout",
     "output_type": "stream",
     "text": [
      "WARNING:tensorflow:From C:\\Users\\mouu\\Anaconda3\\envs\\GPU\\lib\\site-packages\\keras\\optimizers.py:793: The name tf.train.Optimizer is deprecated. Please use tf.compat.v1.train.Optimizer instead.\n",
      "\n",
      "WARNING:tensorflow:From C:\\Users\\mouu\\Anaconda3\\envs\\GPU\\lib\\site-packages\\keras\\backend\\tensorflow_backend.py:3576: The name tf.log is deprecated. Please use tf.math.log instead.\n",
      "\n"
     ]
    }
   ],
   "source": [
    "optimizer = keras.optimizers.Adam(lr=LEARNING_RATE)\n",
    "model.compile(loss=\"categorical_crossentropy\", metrics=[\"accuracy\"], optimizer=optimizer)"
   ]
  },
  {
   "cell_type": "code",
   "execution_count": 10,
   "metadata": {},
   "outputs": [
    {
     "name": "stdout",
     "output_type": "stream",
     "text": [
      "WARNING:tensorflow:From C:\\Users\\mouu\\Anaconda3\\envs\\GPU\\lib\\site-packages\\tensorflow_core\\python\\ops\\math_grad.py:1424: where (from tensorflow.python.ops.array_ops) is deprecated and will be removed in a future version.\n",
      "Instructions for updating:\n",
      "Use tf.where in 2.0, which has the same broadcast rule as np.where\n",
      "WARNING:tensorflow:From C:\\Users\\mouu\\Anaconda3\\envs\\GPU\\lib\\site-packages\\keras\\backend\\tensorflow_backend.py:1033: The name tf.assign_add is deprecated. Please use tf.compat.v1.assign_add instead.\n",
      "\n",
      "WARNING:tensorflow:From C:\\Users\\mouu\\Anaconda3\\envs\\GPU\\lib\\site-packages\\keras\\backend\\tensorflow_backend.py:1020: The name tf.assign is deprecated. Please use tf.compat.v1.assign instead.\n",
      "\n",
      "WARNING:tensorflow:From C:\\Users\\mouu\\Anaconda3\\envs\\GPU\\lib\\site-packages\\keras\\backend\\tensorflow_backend.py:3005: The name tf.Session is deprecated. Please use tf.compat.v1.Session instead.\n",
      "\n",
      "Train on 50000 samples, validate on 10000 samples\n",
      "Epoch 1/100\n",
      "WARNING:tensorflow:From C:\\Users\\mouu\\Anaconda3\\envs\\GPU\\lib\\site-packages\\keras\\backend\\tensorflow_backend.py:190: The name tf.get_default_session is deprecated. Please use tf.compat.v1.get_default_session instead.\n",
      "\n",
      "WARNING:tensorflow:From C:\\Users\\mouu\\Anaconda3\\envs\\GPU\\lib\\site-packages\\keras\\backend\\tensorflow_backend.py:197: The name tf.ConfigProto is deprecated. Please use tf.compat.v1.ConfigProto instead.\n",
      "\n",
      "WARNING:tensorflow:From C:\\Users\\mouu\\Anaconda3\\envs\\GPU\\lib\\site-packages\\keras\\backend\\tensorflow_backend.py:207: The name tf.global_variables is deprecated. Please use tf.compat.v1.global_variables instead.\n",
      "\n",
      "WARNING:tensorflow:From C:\\Users\\mouu\\Anaconda3\\envs\\GPU\\lib\\site-packages\\keras\\backend\\tensorflow_backend.py:216: The name tf.is_variable_initialized is deprecated. Please use tf.compat.v1.is_variable_initialized instead.\n",
      "\n",
      "WARNING:tensorflow:From C:\\Users\\mouu\\Anaconda3\\envs\\GPU\\lib\\site-packages\\keras\\backend\\tensorflow_backend.py:223: The name tf.variables_initializer is deprecated. Please use tf.compat.v1.variables_initializer instead.\n",
      "\n",
      "50000/50000 [==============================] - 5s 96us/step - loss: 1.6947 - acc: 0.3969 - val_loss: 1.5615 - val_acc: 0.4513\n",
      "Epoch 2/100\n",
      "50000/50000 [==============================] - 3s 55us/step - loss: 1.4730 - acc: 0.4776 - val_loss: 1.4567 - val_acc: 0.4812\n",
      "Epoch 3/100\n",
      "50000/50000 [==============================] - 3s 55us/step - loss: 1.3519 - acc: 0.5229 - val_loss: 1.4418 - val_acc: 0.4936\n",
      "Epoch 4/100\n",
      "50000/50000 [==============================] - 3s 55us/step - loss: 1.2638 - acc: 0.5538 - val_loss: 1.3899 - val_acc: 0.5162\n",
      "Epoch 5/100\n",
      "50000/50000 [==============================] - 3s 55us/step - loss: 1.1780 - acc: 0.5845 - val_loss: 1.3796 - val_acc: 0.5179\n",
      "Epoch 6/100\n",
      "50000/50000 [==============================] - 3s 56us/step - loss: 1.1031 - acc: 0.6100 - val_loss: 1.3578 - val_acc: 0.5299\n",
      "Epoch 7/100\n",
      "50000/50000 [==============================] - 3s 56us/step - loss: 1.0266 - acc: 0.6378 - val_loss: 1.3931 - val_acc: 0.5306\n",
      "Epoch 8/100\n",
      "50000/50000 [==============================] - 3s 55us/step - loss: 0.9582 - acc: 0.6601 - val_loss: 1.3962 - val_acc: 0.5360\n",
      "Epoch 9/100\n",
      "50000/50000 [==============================] - 3s 55us/step - loss: 0.8959 - acc: 0.6812 - val_loss: 1.4226 - val_acc: 0.5337\n",
      "Epoch 10/100\n",
      "50000/50000 [==============================] - 3s 55us/step - loss: 0.8204 - acc: 0.7100 - val_loss: 1.4577 - val_acc: 0.5383\n",
      "Epoch 11/100\n",
      "50000/50000 [==============================] - 3s 55us/step - loss: 0.7626 - acc: 0.7314 - val_loss: 1.5091 - val_acc: 0.5337\n",
      "Epoch 12/100\n",
      "50000/50000 [==============================] - 3s 55us/step - loss: 0.6906 - acc: 0.7546 - val_loss: 1.5849 - val_acc: 0.5435\n",
      "Epoch 13/100\n",
      "50000/50000 [==============================] - 3s 55us/step - loss: 0.6416 - acc: 0.7734 - val_loss: 1.5915 - val_acc: 0.5393\n",
      "Epoch 14/100\n",
      "50000/50000 [==============================] - 3s 56us/step - loss: 0.5899 - acc: 0.7909 - val_loss: 1.6867 - val_acc: 0.5377\n",
      "Epoch 15/100\n",
      "50000/50000 [==============================] - 3s 55us/step - loss: 0.5389 - acc: 0.8078 - val_loss: 1.8129 - val_acc: 0.5349\n",
      "Epoch 16/100\n",
      "50000/50000 [==============================] - 3s 55us/step - loss: 0.4959 - acc: 0.8255 - val_loss: 1.8715 - val_acc: 0.5402\n",
      "Epoch 17/100\n",
      "50000/50000 [==============================] - 3s 55us/step - loss: 0.4605 - acc: 0.8381 - val_loss: 1.8893 - val_acc: 0.5360\n",
      "Epoch 18/100\n",
      "50000/50000 [==============================] - 3s 55us/step - loss: 0.4194 - acc: 0.8514 - val_loss: 1.9353 - val_acc: 0.5415\n",
      "Epoch 19/100\n",
      "50000/50000 [==============================] - 4s 74us/step - loss: 0.3959 - acc: 0.8621 - val_loss: 2.0845 - val_acc: 0.5342\n",
      "Epoch 20/100\n",
      "50000/50000 [==============================] - 3s 59us/step - loss: 0.3553 - acc: 0.8736 - val_loss: 2.1956 - val_acc: 0.5307\n",
      "Epoch 21/100\n",
      "50000/50000 [==============================] - 3s 57us/step - loss: 0.3366 - acc: 0.8815 - val_loss: 2.2259 - val_acc: 0.5328\n",
      "Epoch 22/100\n",
      "50000/50000 [==============================] - 3s 56us/step - loss: 0.3199 - acc: 0.8881 - val_loss: 2.3385 - val_acc: 0.5313\n",
      "Epoch 23/100\n",
      "50000/50000 [==============================] - 3s 58us/step - loss: 0.2886 - acc: 0.8990 - val_loss: 2.4600 - val_acc: 0.5345\n",
      "Epoch 24/100\n",
      "50000/50000 [==============================] - 3s 57us/step - loss: 0.2751 - acc: 0.9030 - val_loss: 2.5440 - val_acc: 0.5361\n",
      "Epoch 25/100\n",
      "50000/50000 [==============================] - 3s 57us/step - loss: 0.2488 - acc: 0.9143 - val_loss: 2.5631 - val_acc: 0.5240\n",
      "Epoch 26/100\n",
      "50000/50000 [==============================] - 3s 57us/step - loss: 0.2547 - acc: 0.9109 - val_loss: 2.5522 - val_acc: 0.5330\n",
      "Epoch 27/100\n",
      "50000/50000 [==============================] - 3s 57us/step - loss: 0.2350 - acc: 0.9195 - val_loss: 2.7190 - val_acc: 0.5269\n",
      "Epoch 28/100\n",
      "50000/50000 [==============================] - 3s 56us/step - loss: 0.2179 - acc: 0.9239 - val_loss: 2.7266 - val_acc: 0.5313\n",
      "Epoch 29/100\n",
      "50000/50000 [==============================] - 3s 55us/step - loss: 0.2125 - acc: 0.9255 - val_loss: 2.8343 - val_acc: 0.5187\n",
      "Epoch 30/100\n",
      "50000/50000 [==============================] - 3s 55us/step - loss: 0.2154 - acc: 0.9241 - val_loss: 2.8290 - val_acc: 0.5326\n",
      "Epoch 31/100\n",
      "50000/50000 [==============================] - 3s 55us/step - loss: 0.1907 - acc: 0.9334 - val_loss: 2.9820 - val_acc: 0.5349\n",
      "Epoch 32/100\n",
      "50000/50000 [==============================] - 3s 58us/step - loss: 0.1893 - acc: 0.9339 - val_loss: 3.0087 - val_acc: 0.5325\n",
      "Epoch 33/100\n",
      "50000/50000 [==============================] - 3s 57us/step - loss: 0.1970 - acc: 0.9329 - val_loss: 2.8848 - val_acc: 0.5331\n",
      "Epoch 34/100\n",
      "50000/50000 [==============================] - 3s 56us/step - loss: 0.1623 - acc: 0.9440 - val_loss: 2.9976 - val_acc: 0.5294\n",
      "Epoch 35/100\n",
      "50000/50000 [==============================] - 3s 60us/step - loss: 0.1722 - acc: 0.9401 - val_loss: 3.1029 - val_acc: 0.5282\n",
      "Epoch 36/100\n",
      "50000/50000 [==============================] - 3s 55us/step - loss: 0.1742 - acc: 0.9397 - val_loss: 3.1541 - val_acc: 0.5268\n",
      "Epoch 37/100\n",
      "50000/50000 [==============================] - 3s 55us/step - loss: 0.1646 - acc: 0.9447 - val_loss: 3.1531 - val_acc: 0.5330\n",
      "Epoch 38/100\n",
      "50000/50000 [==============================] - 3s 55us/step - loss: 0.1516 - acc: 0.9476 - val_loss: 3.2250 - val_acc: 0.5336\n",
      "Epoch 39/100\n",
      "50000/50000 [==============================] - 3s 55us/step - loss: 0.1465 - acc: 0.9510 - val_loss: 3.0441 - val_acc: 0.5289\n",
      "Epoch 40/100\n",
      "50000/50000 [==============================] - 3s 58us/step - loss: 0.1523 - acc: 0.9475 - val_loss: 3.2881 - val_acc: 0.5317\n",
      "Epoch 41/100\n",
      "50000/50000 [==============================] - 3s 56us/step - loss: 0.1441 - acc: 0.9514 - val_loss: 3.3488 - val_acc: 0.5325\n",
      "Epoch 42/100\n",
      "50000/50000 [==============================] - 3s 55us/step - loss: 0.1491 - acc: 0.9489 - val_loss: 3.2512 - val_acc: 0.5377\n",
      "Epoch 43/100\n",
      "50000/50000 [==============================] - 3s 55us/step - loss: 0.1305 - acc: 0.9551 - val_loss: 3.2952 - val_acc: 0.5328\n",
      "Epoch 44/100\n",
      "50000/50000 [==============================] - 3s 55us/step - loss: 0.1388 - acc: 0.9544 - val_loss: 3.2849 - val_acc: 0.5256\n",
      "Epoch 45/100\n"
     ]
    },
    {
     "name": "stdout",
     "output_type": "stream",
     "text": [
      "50000/50000 [==============================] - 3s 55us/step - loss: 0.1291 - acc: 0.9567 - val_loss: 3.3464 - val_acc: 0.5347\n",
      "Epoch 46/100\n",
      "50000/50000 [==============================] - 3s 57us/step - loss: 0.1373 - acc: 0.9545 - val_loss: 3.2501 - val_acc: 0.5294\n",
      "Epoch 47/100\n",
      "50000/50000 [==============================] - 3s 55us/step - loss: 0.1242 - acc: 0.9579 - val_loss: 3.3869 - val_acc: 0.5339\n",
      "Epoch 48/100\n",
      "50000/50000 [==============================] - 3s 56us/step - loss: 0.1177 - acc: 0.9599 - val_loss: 3.5014 - val_acc: 0.5267\n",
      "Epoch 49/100\n",
      "50000/50000 [==============================] - 3s 55us/step - loss: 0.1373 - acc: 0.9541 - val_loss: 3.4069 - val_acc: 0.5310\n",
      "Epoch 50/100\n",
      "50000/50000 [==============================] - 3s 57us/step - loss: 0.1142 - acc: 0.9620 - val_loss: 3.3884 - val_acc: 0.5278\n",
      "Epoch 51/100\n",
      "50000/50000 [==============================] - 3s 55us/step - loss: 0.1250 - acc: 0.9585 - val_loss: 3.4082 - val_acc: 0.5232\n",
      "Epoch 52/100\n",
      "50000/50000 [==============================] - 3s 58us/step - loss: 0.1175 - acc: 0.9611 - val_loss: 3.4554 - val_acc: 0.5346\n",
      "Epoch 53/100\n",
      "50000/50000 [==============================] - 3s 57us/step - loss: 0.1161 - acc: 0.9613 - val_loss: 3.4927 - val_acc: 0.5322\n",
      "Epoch 54/100\n",
      "50000/50000 [==============================] - 3s 58us/step - loss: 0.1067 - acc: 0.9647 - val_loss: 3.5510 - val_acc: 0.5364\n",
      "Epoch 55/100\n",
      "50000/50000 [==============================] - 3s 57us/step - loss: 0.1072 - acc: 0.9645 - val_loss: 3.5075 - val_acc: 0.5288\n",
      "Epoch 56/100\n",
      "50000/50000 [==============================] - 3s 56us/step - loss: 0.1147 - acc: 0.9619 - val_loss: 3.5181 - val_acc: 0.5246\n",
      "Epoch 57/100\n",
      "50000/50000 [==============================] - 3s 58us/step - loss: 0.1047 - acc: 0.9652 - val_loss: 3.4810 - val_acc: 0.5278\n",
      "Epoch 58/100\n",
      "50000/50000 [==============================] - 3s 56us/step - loss: 0.1121 - acc: 0.9622 - val_loss: 3.4504 - val_acc: 0.5274\n",
      "Epoch 59/100\n",
      "50000/50000 [==============================] - 3s 55us/step - loss: 0.1013 - acc: 0.9658 - val_loss: 3.6252 - val_acc: 0.5288\n",
      "Epoch 60/100\n",
      "50000/50000 [==============================] - 3s 54us/step - loss: 0.0908 - acc: 0.9694 - val_loss: 3.6287 - val_acc: 0.5258\n",
      "Epoch 61/100\n",
      "50000/50000 [==============================] - 3s 56us/step - loss: 0.1262 - acc: 0.9576 - val_loss: 3.4937 - val_acc: 0.5343\n",
      "Epoch 62/100\n",
      "50000/50000 [==============================] - 3s 55us/step - loss: 0.0957 - acc: 0.9691 - val_loss: 3.6501 - val_acc: 0.5235\n",
      "Epoch 63/100\n",
      "50000/50000 [==============================] - 3s 55us/step - loss: 0.1007 - acc: 0.9670 - val_loss: 3.6810 - val_acc: 0.5245\n",
      "Epoch 64/100\n",
      "50000/50000 [==============================] - 3s 56us/step - loss: 0.0906 - acc: 0.9701 - val_loss: 3.6225 - val_acc: 0.5249\n",
      "Epoch 65/100\n",
      "50000/50000 [==============================] - 3s 55us/step - loss: 0.1057 - acc: 0.9651 - val_loss: 3.6405 - val_acc: 0.5294\n",
      "Epoch 66/100\n",
      "50000/50000 [==============================] - 3s 55us/step - loss: 0.0868 - acc: 0.9717 - val_loss: 3.8056 - val_acc: 0.5291\n",
      "Epoch 67/100\n",
      "50000/50000 [==============================] - 3s 55us/step - loss: 0.1029 - acc: 0.9657 - val_loss: 3.6607 - val_acc: 0.5338\n",
      "Epoch 68/100\n",
      "50000/50000 [==============================] - 3s 56us/step - loss: 0.0821 - acc: 0.9728 - val_loss: 3.7061 - val_acc: 0.5330\n",
      "Epoch 69/100\n",
      "50000/50000 [==============================] - 3s 56us/step - loss: 0.0929 - acc: 0.9694 - val_loss: 3.6723 - val_acc: 0.5327\n",
      "Epoch 70/100\n",
      "50000/50000 [==============================] - 3s 56us/step - loss: 0.0897 - acc: 0.9703 - val_loss: 3.7498 - val_acc: 0.5243\n",
      "Epoch 71/100\n",
      "50000/50000 [==============================] - 3s 55us/step - loss: 0.1141 - acc: 0.9631 - val_loss: 3.5515 - val_acc: 0.5326\n",
      "Epoch 72/100\n",
      "50000/50000 [==============================] - 3s 55us/step - loss: 0.0872 - acc: 0.9709 - val_loss: 3.7630 - val_acc: 0.5329\n",
      "Epoch 73/100\n",
      "50000/50000 [==============================] - 3s 55us/step - loss: 0.0780 - acc: 0.9744 - val_loss: 3.9268 - val_acc: 0.5327\n",
      "Epoch 74/100\n",
      "50000/50000 [==============================] - 3s 55us/step - loss: 0.0893 - acc: 0.9712 - val_loss: 3.8412 - val_acc: 0.5284\n",
      "Epoch 75/100\n",
      "50000/50000 [==============================] - 3s 55us/step - loss: 0.0830 - acc: 0.9724 - val_loss: 3.7474 - val_acc: 0.5304\n",
      "Epoch 76/100\n",
      "50000/50000 [==============================] - 3s 55us/step - loss: 0.0961 - acc: 0.9693 - val_loss: 3.7404 - val_acc: 0.5357\n",
      "Epoch 77/100\n",
      "50000/50000 [==============================] - 3s 55us/step - loss: 0.0860 - acc: 0.9717 - val_loss: 3.7727 - val_acc: 0.5301\n",
      "Epoch 78/100\n",
      "50000/50000 [==============================] - 3s 55us/step - loss: 0.0861 - acc: 0.9725 - val_loss: 3.7398 - val_acc: 0.5320\n",
      "Epoch 79/100\n",
      "50000/50000 [==============================] - 3s 55us/step - loss: 0.0900 - acc: 0.9712 - val_loss: 3.7192 - val_acc: 0.5246\n",
      "Epoch 80/100\n",
      "50000/50000 [==============================] - 3s 55us/step - loss: 0.0856 - acc: 0.9721 - val_loss: 3.7329 - val_acc: 0.5369\n",
      "Epoch 81/100\n",
      "50000/50000 [==============================] - 3s 55us/step - loss: 0.0701 - acc: 0.9777 - val_loss: 3.7806 - val_acc: 0.5367\n",
      "Epoch 82/100\n",
      "50000/50000 [==============================] - 3s 55us/step - loss: 0.0766 - acc: 0.9752 - val_loss: 3.8857 - val_acc: 0.5285\n",
      "Epoch 83/100\n",
      "50000/50000 [==============================] - 3s 55us/step - loss: 0.0851 - acc: 0.9727 - val_loss: 3.7967 - val_acc: 0.5299\n",
      "Epoch 84/100\n",
      "50000/50000 [==============================] - 3s 55us/step - loss: 0.0886 - acc: 0.9719 - val_loss: 3.8669 - val_acc: 0.5364\n",
      "Epoch 85/100\n",
      "50000/50000 [==============================] - 3s 55us/step - loss: 0.0610 - acc: 0.9796 - val_loss: 4.0370 - val_acc: 0.5253\n",
      "Epoch 86/100\n",
      "50000/50000 [==============================] - 3s 55us/step - loss: 0.0805 - acc: 0.9742 - val_loss: 3.7970 - val_acc: 0.5190\n",
      "Epoch 87/100\n",
      "50000/50000 [==============================] - 3s 55us/step - loss: 0.0798 - acc: 0.9731 - val_loss: 3.9319 - val_acc: 0.5249\n",
      "Epoch 88/100\n",
      "50000/50000 [==============================] - 3s 55us/step - loss: 0.0772 - acc: 0.9763 - val_loss: 3.7779 - val_acc: 0.5188\n",
      "Epoch 89/100\n",
      "50000/50000 [==============================] - 3s 55us/step - loss: 0.0926 - acc: 0.9716 - val_loss: 3.7543 - val_acc: 0.5322\n",
      "Epoch 90/100\n",
      "50000/50000 [==============================] - 3s 55us/step - loss: 0.0791 - acc: 0.9755 - val_loss: 3.8160 - val_acc: 0.5313\n",
      "Epoch 91/100\n",
      "50000/50000 [==============================] - 3s 55us/step - loss: 0.0740 - acc: 0.9765 - val_loss: 3.8405 - val_acc: 0.5269\n",
      "Epoch 92/100\n",
      "50000/50000 [==============================] - 3s 55us/step - loss: 0.0781 - acc: 0.9758 - val_loss: 3.6685 - val_acc: 0.5279\n",
      "Epoch 93/100\n",
      "50000/50000 [==============================] - 3s 55us/step - loss: 0.0599 - acc: 0.9804 - val_loss: 3.8914 - val_acc: 0.5319\n",
      "Epoch 94/100\n",
      "50000/50000 [==============================] - 3s 55us/step - loss: 0.0708 - acc: 0.9774 - val_loss: 3.8775 - val_acc: 0.5344\n",
      "Epoch 95/100\n",
      "50000/50000 [==============================] - 3s 55us/step - loss: 0.0596 - acc: 0.9811 - val_loss: 4.0313 - val_acc: 0.5359\n",
      "Epoch 96/100\n",
      "50000/50000 [==============================] - 3s 55us/step - loss: 0.0871 - acc: 0.9730 - val_loss: 3.8887 - val_acc: 0.5328\n",
      "Epoch 97/100\n",
      "50000/50000 [==============================] - 3s 56us/step - loss: 0.0718 - acc: 0.9764 - val_loss: 3.7679 - val_acc: 0.5283\n",
      "Epoch 98/100\n",
      "50000/50000 [==============================] - 3s 55us/step - loss: 0.0717 - acc: 0.9763 - val_loss: 3.8509 - val_acc: 0.5304\n",
      "Epoch 99/100\n",
      "50000/50000 [==============================] - 3s 55us/step - loss: 0.0600 - acc: 0.9804 - val_loss: 3.9868 - val_acc: 0.5296\n",
      "Epoch 100/100\n",
      "50000/50000 [==============================] - 3s 56us/step - loss: 0.0625 - acc: 0.9800 - val_loss: 3.9266 - val_acc: 0.5316\n"
     ]
    },
    {
     "data": {
      "text/plain": [
       "<keras.callbacks.History at 0x1b8aeba4248>"
      ]
     },
     "execution_count": 10,
     "metadata": {},
     "output_type": "execute_result"
    }
   ],
   "source": [
    "model.fit(x_train, y_train, \n",
    "          epochs=EPOCHS, \n",
    "          batch_size=BATCH_SIZE, \n",
    "          validation_data=(x_test, y_test), \n",
    "          shuffle=True)"
   ]
  },
  {
   "cell_type": "code",
   "execution_count": 12,
   "metadata": {},
   "outputs": [
    {
     "data": {
      "image/png": "[encoded data removed]",
      "text/plain": [
       "<Figure size 432x288 with 1 Axes>"
      ]
     },
     "metadata": {
      "needs_background": "light"
     },
     "output_type": "display_data"
    },
    {
     "data": {
      "image/png": "[encoded data removed]",
      "text/plain": [
       "<Figure size 432x288 with 1 Axes>"
      ]
     },
     "metadata": {
      "needs_background": "light"
     },
     "output_type": "display_data"
    }
   ],
   "source": [
    "import matplotlib.pyplot as plt\n",
    "%matplotlib inline \n",
    "\n",
    "train_loss = model.history.history[\"loss\"]\n",
    "valid_loss = model.history.history[\"val_loss\"]\n",
    "\n",
    "train_acc = model.history.history[\"acc\"]\n",
    "valid_acc = model.history.history[\"val_acc\"]\n",
    "\n",
    "plt.plot(range(len(train_loss)), train_loss, label=\"train loss\")\n",
    "plt.plot(range(len(valid_loss)), valid_loss, label=\"valid loss\")\n",
    "plt.legend()\n",
    "plt.title(\"Loss\")\n",
    "plt.show()\n",
    "\n",
    "plt.plot(range(len(train_acc)), train_acc, label=\"train accuracy\")\n",
    "plt.plot(range(len(valid_acc)), valid_acc, label=\"valid accuracy\")\n",
    "plt.legend()\n",
    "plt.title(\"Accuracy\")\n",
    "plt.show()"
   ]
  },
  {
   "cell_type": "code",
   "execution_count": null,
   "metadata": {},
   "outputs": [],
   "source": []
  }
 ],
 "metadata": {
  "kernelspec": {
   "display_name": "Python 3",
   "language": "python",
   "name": "python3"
  },
  "language_info": {
   "codemirror_mode": {
    "name": "ipython",
    "version": 3
   },
   "file_extension": ".py",
   "mimetype": "text/x-python",
   "name": "python",
   "nbconvert_exporter": "python",
   "pygments_lexer": "ipython3",
   "version": "3.7.5"
  }
 },
 "nbformat": 4,
 "nbformat_minor": 2
}
