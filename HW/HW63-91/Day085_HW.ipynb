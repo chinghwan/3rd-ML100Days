{
 "cells": [
  {
   "cell_type": "markdown",
   "metadata": {},
   "source": [
    "## Work\n",
    "1. 試改變 monitor \"Validation Accuracy\" 並比較結果\n",
    "2. 調整 earlystop 的等待次數至 10, 25 並比較結果"
   ]
  },
  {
   "cell_type": "code",
   "execution_count": 1,
   "metadata": {},
   "outputs": [
    {
     "name": "stderr",
     "output_type": "stream",
     "text": [
      "Using TensorFlow backend.\n"
     ]
    }
   ],
   "source": [
    "import os\n",
    "import keras\n",
    "import matplotlib.pyplot as plt\n",
    "%matplotlib inline\n",
    "\n",
    "\n",
    "# Disable GPU\n",
    "os.environ[\"CUDA_VISIBLE_DEVICES\"] = \"\""
   ]
  },
  {
   "cell_type": "code",
   "execution_count": 2,
   "metadata": {},
   "outputs": [],
   "source": [
    "train, test = keras.datasets.cifar10.load_data()"
   ]
  },
  {
   "cell_type": "code",
   "execution_count": 3,
   "metadata": {},
   "outputs": [],
   "source": [
    "## 資料前處理\n",
    "def preproc_x(x, flatten=True):\n",
    "    x = x / 255.\n",
    "    if flatten:\n",
    "        x = x.reshape((len(x), -1))\n",
    "    return x\n",
    "\n",
    "def preproc_y(y, num_classes=10):\n",
    "    if y.shape[-1] == 1:\n",
    "        y = keras.utils.to_categorical(y, num_classes)\n",
    "    return y    "
   ]
  },
  {
   "cell_type": "code",
   "execution_count": 4,
   "metadata": {},
   "outputs": [],
   "source": [
    "x_train, y_train = train\n",
    "x_test, y_test = test\n",
    "\n",
    "# Preproc the inputs\n",
    "x_train = preproc_x(x_train)\n",
    "x_test = preproc_x(x_test)\n",
    "\n",
    "# Preprc the outputs\n",
    "y_train = preproc_y(y_train)\n",
    "y_test = preproc_y(y_test)"
   ]
  },
  {
   "cell_type": "code",
   "execution_count": 9,
   "metadata": {},
   "outputs": [],
   "source": [
    "from keras.layers import BatchNormalization\n",
    "def build_mlp(input_shape, output_units=10, num_neurons=[512, 256, 128]):\n",
    "    input_layer = keras.layers.Input(input_shape)\n",
    "    \n",
    "    for i, n_units in enumerate(num_neurons):\n",
    "        if i == 0:\n",
    "            x = keras.layers.Dense(units=n_units, \n",
    "                                   activation=\"relu\", \n",
    "                                   name=\"hidden_layer\"+str(i+1))(input_layer)\n",
    "            x = BatchNormalization()(x)\n",
    "        else:\n",
    "            x = keras.layers.Dense(units=n_units, \n",
    "                                   activation=\"relu\", \n",
    "                                   name=\"hidden_layer\"+str(i+1))(x)\n",
    "            x = BatchNormalization()(x)\n",
    "    \n",
    "    out = keras.layers.Dense(units=output_units, activation=\"softmax\", name=\"output\")(x)\n",
    "    \n",
    "    model = keras.models.Model(inputs=[input_layer], outputs=[out])\n",
    "    return model"
   ]
  },
  {
   "cell_type": "code",
   "execution_count": 10,
   "metadata": {},
   "outputs": [],
   "source": [
    "\"\"\"Code Here\n",
    "設定超參數\n",
    "\"\"\"\n",
    "LEARNING_RATE = 1e-3\n",
    "EPOCHS = 50\n",
    "BATCH_SIZE = 1024\n",
    "MOMENTUM = 0.95"
   ]
  },
  {
   "cell_type": "code",
   "execution_count": 11,
   "metadata": {},
   "outputs": [
    {
     "name": "stdout",
     "output_type": "stream",
     "text": [
      "WARNING:tensorflow:From C:\\Users\\mouu\\Anaconda3\\envs\\GPU\\lib\\site-packages\\keras\\backend\\tensorflow_backend.py:148: The name tf.placeholder_with_default is deprecated. Please use tf.compat.v1.placeholder_with_default instead.\n",
      "\n",
      "Model: \"model_1\"\n",
      "_________________________________________________________________\n",
      "Layer (type)                 Output Shape              Param #   \n",
      "=================================================================\n",
      "input_3 (InputLayer)         (None, 3072)              0         \n",
      "_________________________________________________________________\n",
      "hidden_layer1 (Dense)        (None, 512)               1573376   \n",
      "_________________________________________________________________\n",
      "batch_normalization_1 (Batch (None, 512)               2048      \n",
      "_________________________________________________________________\n",
      "hidden_layer2 (Dense)        (None, 256)               131328    \n",
      "_________________________________________________________________\n",
      "batch_normalization_2 (Batch (None, 256)               1024      \n",
      "_________________________________________________________________\n",
      "hidden_layer3 (Dense)        (None, 128)               32896     \n",
      "_________________________________________________________________\n",
      "batch_normalization_3 (Batch (None, 128)               512       \n",
      "_________________________________________________________________\n",
      "output (Dense)               (None, 10)                1290      \n",
      "=================================================================\n",
      "Total params: 1,742,474\n",
      "Trainable params: 1,740,682\n",
      "Non-trainable params: 1,792\n",
      "_________________________________________________________________\n",
      "WARNING:tensorflow:From C:\\Users\\mouu\\Anaconda3\\envs\\GPU\\lib\\site-packages\\keras\\optimizers.py:793: The name tf.train.Optimizer is deprecated. Please use tf.compat.v1.train.Optimizer instead.\n",
      "\n",
      "WARNING:tensorflow:From C:\\Users\\mouu\\Anaconda3\\envs\\GPU\\lib\\site-packages\\keras\\backend\\tensorflow_backend.py:3576: The name tf.log is deprecated. Please use tf.math.log instead.\n",
      "\n",
      "WARNING:tensorflow:From C:\\Users\\mouu\\Anaconda3\\envs\\GPU\\lib\\site-packages\\tensorflow_core\\python\\ops\\math_grad.py:1424: where (from tensorflow.python.ops.array_ops) is deprecated and will be removed in a future version.\n",
      "Instructions for updating:\n",
      "Use tf.where in 2.0, which has the same broadcast rule as np.where\n",
      "WARNING:tensorflow:From C:\\Users\\mouu\\Anaconda3\\envs\\GPU\\lib\\site-packages\\keras\\backend\\tensorflow_backend.py:1033: The name tf.assign_add is deprecated. Please use tf.compat.v1.assign_add instead.\n",
      "\n",
      "WARNING:tensorflow:From C:\\Users\\mouu\\Anaconda3\\envs\\GPU\\lib\\site-packages\\keras\\backend\\tensorflow_backend.py:1020: The name tf.assign is deprecated. Please use tf.compat.v1.assign instead.\n",
      "\n",
      "WARNING:tensorflow:From C:\\Users\\mouu\\Anaconda3\\envs\\GPU\\lib\\site-packages\\keras\\backend\\tensorflow_backend.py:3005: The name tf.Session is deprecated. Please use tf.compat.v1.Session instead.\n",
      "\n",
      "Train on 50000 samples, validate on 10000 samples\n",
      "Epoch 1/50\n",
      "WARNING:tensorflow:From C:\\Users\\mouu\\Anaconda3\\envs\\GPU\\lib\\site-packages\\keras\\backend\\tensorflow_backend.py:190: The name tf.get_default_session is deprecated. Please use tf.compat.v1.get_default_session instead.\n",
      "\n",
      "WARNING:tensorflow:From C:\\Users\\mouu\\Anaconda3\\envs\\GPU\\lib\\site-packages\\keras\\backend\\tensorflow_backend.py:197: The name tf.ConfigProto is deprecated. Please use tf.compat.v1.ConfigProto instead.\n",
      "\n",
      "WARNING:tensorflow:From C:\\Users\\mouu\\Anaconda3\\envs\\GPU\\lib\\site-packages\\keras\\backend\\tensorflow_backend.py:207: The name tf.global_variables is deprecated. Please use tf.compat.v1.global_variables instead.\n",
      "\n",
      "WARNING:tensorflow:From C:\\Users\\mouu\\Anaconda3\\envs\\GPU\\lib\\site-packages\\keras\\backend\\tensorflow_backend.py:216: The name tf.is_variable_initialized is deprecated. Please use tf.compat.v1.is_variable_initialized instead.\n",
      "\n",
      "WARNING:tensorflow:From C:\\Users\\mouu\\Anaconda3\\envs\\GPU\\lib\\site-packages\\keras\\backend\\tensorflow_backend.py:223: The name tf.variables_initializer is deprecated. Please use tf.compat.v1.variables_initializer instead.\n",
      "\n",
      "50000/50000 [==============================] - 6s 128us/step - loss: 2.1807 - acc: 0.2733 - val_loss: 2.0074 - val_acc: 0.3313\n",
      "Epoch 2/50\n",
      "50000/50000 [==============================] - 2s 38us/step - loss: 1.7367 - acc: 0.3954 - val_loss: 1.7587 - val_acc: 0.3972\n",
      "Epoch 3/50\n",
      "50000/50000 [==============================] - 2s 38us/step - loss: 1.6117 - acc: 0.4334 - val_loss: 1.6616 - val_acc: 0.4154\n",
      "Epoch 4/50\n",
      "50000/50000 [==============================] - 2s 38us/step - loss: 1.5398 - acc: 0.4588 - val_loss: 1.6180 - val_acc: 0.4269\n",
      "Epoch 5/50\n",
      "50000/50000 [==============================] - 2s 38us/step - loss: 1.4847 - acc: 0.4799 - val_loss: 1.5886 - val_acc: 0.4392\n",
      "Epoch 6/50\n",
      "50000/50000 [==============================] - 2s 38us/step - loss: 1.4390 - acc: 0.4947 - val_loss: 1.5542 - val_acc: 0.4536\n",
      "Epoch 7/50\n",
      "50000/50000 [==============================] - 2s 39us/step - loss: 1.4000 - acc: 0.5105 - val_loss: 1.5312 - val_acc: 0.4559\n",
      "Epoch 8/50\n",
      "50000/50000 [==============================] - 2s 38us/step - loss: 1.3648 - acc: 0.5225 - val_loss: 1.5096 - val_acc: 0.4655\n",
      "Epoch 9/50\n",
      "50000/50000 [==============================] - 2s 39us/step - loss: 1.3336 - acc: 0.5340 - val_loss: 1.5015 - val_acc: 0.4691\n",
      "Epoch 10/50\n",
      "50000/50000 [==============================] - 2s 39us/step - loss: 1.3038 - acc: 0.5450 - val_loss: 1.4919 - val_acc: 0.4706\n",
      "Epoch 11/50\n",
      "50000/50000 [==============================] - 2s 39us/step - loss: 1.2766 - acc: 0.5542 - val_loss: 1.4810 - val_acc: 0.4736\n",
      "Epoch 12/50\n",
      "50000/50000 [==============================] - 2s 38us/step - loss: 1.2482 - acc: 0.5648 - val_loss: 1.4718 - val_acc: 0.4816\n",
      "Epoch 13/50\n",
      "50000/50000 [==============================] - 2s 38us/step - loss: 1.2239 - acc: 0.5740 - val_loss: 1.4666 - val_acc: 0.4824\n",
      "Epoch 14/50\n",
      "50000/50000 [==============================] - 2s 39us/step - loss: 1.2003 - acc: 0.5833 - val_loss: 1.4537 - val_acc: 0.4896\n",
      "Epoch 15/50\n",
      "50000/50000 [==============================] - 2s 38us/step - loss: 1.1771 - acc: 0.5928 - val_loss: 1.4557 - val_acc: 0.4834\n",
      "Epoch 16/50\n",
      "50000/50000 [==============================] - 2s 39us/step - loss: 1.1551 - acc: 0.5997 - val_loss: 1.4485 - val_acc: 0.4916\n",
      "Epoch 17/50\n",
      "50000/50000 [==============================] - 2s 38us/step - loss: 1.1325 - acc: 0.6104 - val_loss: 1.4446 - val_acc: 0.4903\n",
      "Epoch 18/50\n",
      "50000/50000 [==============================] - 2s 38us/step - loss: 1.1110 - acc: 0.6159 - val_loss: 1.4426 - val_acc: 0.4965\n",
      "Epoch 19/50\n",
      "50000/50000 [==============================] - 2s 38us/step - loss: 1.0877 - acc: 0.6268 - val_loss: 1.4447 - val_acc: 0.4951\n",
      "Epoch 20/50\n",
      "50000/50000 [==============================] - 2s 38us/step - loss: 1.0656 - acc: 0.6369 - val_loss: 1.4633 - val_acc: 0.4856\n",
      "Epoch 21/50\n",
      "50000/50000 [==============================] - 2s 39us/step - loss: 1.0448 - acc: 0.6420 - val_loss: 1.4473 - val_acc: 0.4941\n",
      "Epoch 22/50\n",
      "50000/50000 [==============================] - 2s 39us/step - loss: 1.0259 - acc: 0.6502 - val_loss: 1.4521 - val_acc: 0.4942\n",
      "Epoch 23/50\n",
      "50000/50000 [==============================] - 2s 39us/step - loss: 1.0034 - acc: 0.6597 - val_loss: 1.4489 - val_acc: 0.4936\n",
      "Epoch 24/50\n",
      "50000/50000 [==============================] - 2s 38us/step - loss: 0.9830 - acc: 0.6670 - val_loss: 1.4598 - val_acc: 0.4944\n",
      "Epoch 25/50\n",
      "50000/50000 [==============================] - 2s 39us/step - loss: 0.9620 - acc: 0.6753 - val_loss: 1.4535 - val_acc: 0.4950\n",
      "Epoch 26/50\n",
      "50000/50000 [==============================] - 2s 38us/step - loss: 0.9422 - acc: 0.6844 - val_loss: 1.4647 - val_acc: 0.4930\n",
      "Epoch 27/50\n",
      "50000/50000 [==============================] - 2s 38us/step - loss: 0.9238 - acc: 0.6907 - val_loss: 1.4608 - val_acc: 0.4978\n",
      "Epoch 28/50\n",
      "50000/50000 [==============================] - 2s 38us/step - loss: 0.9023 - acc: 0.6981 - val_loss: 1.4664 - val_acc: 0.4952\n",
      "Epoch 00028: early stopping\n"
     ]
    }
   ],
   "source": [
    "# 載入 Callbacks\n",
    "\"\"\"Code Here\n",
    "設定 callbacks: Earlystop\n",
    "\"\"\"\n",
    "from keras.callbacks import EarlyStopping\n",
    "\n",
    "earlystop = EarlyStopping(monitor=\"val_loss\", \n",
    "                          patience=10, \n",
    "                          verbose=1\n",
    "                          )\n",
    "results = {}\n",
    "\"\"\"Code Here\n",
    "撰寫你的訓練流程並將結果用 dictionary 紀錄\n",
    "\"\"\"\n",
    "model = build_mlp(input_shape=x_train.shape[1:])\n",
    "model.summary()\n",
    "optimizer = keras.optimizers.SGD(lr=LEARNING_RATE, nesterov=True, momentum=MOMENTUM)\n",
    "model.compile(loss=\"categorical_crossentropy\", metrics=[\"accuracy\"], optimizer=optimizer)\n",
    "\n",
    "model.fit(x_train, y_train, \n",
    "          epochs=EPOCHS, \n",
    "          batch_size=BATCH_SIZE, \n",
    "          validation_data=(x_test, y_test), \n",
    "          shuffle=True,\n",
    "          callbacks=[earlystop]\n",
    "         )\n",
    "\n",
    "# Collect results\n",
    "train_loss = model.history.history[\"loss\"]\n",
    "valid_loss = model.history.history[\"val_loss\"]\n",
    "train_acc = model.history.history[\"acc\"]\n",
    "valid_acc = model.history.history[\"val_acc\"]"
   ]
  },
  {
   "cell_type": "code",
   "execution_count": 12,
   "metadata": {},
   "outputs": [
    {
     "data": {
      "image/png": "[encoded data removed]",
      "text/plain": [
       "<Figure size 432x288 with 1 Axes>"
      ]
     },
     "metadata": {
      "needs_background": "light"
     },
     "output_type": "display_data"
    },
    {
     "data": {
      "image/png": "[encoded data removed]",
      "text/plain": [
       "<Figure size 432x288 with 1 Axes>"
      ]
     },
     "metadata": {
      "needs_background": "light"
     },
     "output_type": "display_data"
    }
   ],
   "source": [
    "import matplotlib.pyplot as plt\n",
    "%matplotlib inline\n",
    "\n",
    "plt.plot(range(len(train_loss)), train_loss, label=\"train loss\")\n",
    "plt.plot(range(len(valid_loss)), valid_loss, label=\"valid loss\")\n",
    "plt.legend()\n",
    "plt.title(\"Loss\")\n",
    "plt.show()\n",
    "\n",
    "plt.plot(range(len(train_acc)), train_acc, label=\"train accuracy\")\n",
    "plt.plot(range(len(valid_acc)), valid_acc, label=\"valid accuracy\")\n",
    "plt.legend()\n",
    "plt.title(\"Accuracy\")\n",
    "plt.show()"
   ]
  },
  {
   "cell_type": "code",
   "execution_count": 13,
   "metadata": {},
   "outputs": [
    {
     "name": "stdout",
     "output_type": "stream",
     "text": [
      "Model: \"model_2\"\n",
      "_________________________________________________________________\n",
      "Layer (type)                 Output Shape              Param #   \n",
      "=================================================================\n",
      "input_4 (InputLayer)         (None, 3072)              0         \n",
      "_________________________________________________________________\n",
      "hidden_layer1 (Dense)        (None, 512)               1573376   \n",
      "_________________________________________________________________\n",
      "batch_normalization_4 (Batch (None, 512)               2048      \n",
      "_________________________________________________________________\n",
      "hidden_layer2 (Dense)        (None, 256)               131328    \n",
      "_________________________________________________________________\n",
      "batch_normalization_5 (Batch (None, 256)               1024      \n",
      "_________________________________________________________________\n",
      "hidden_layer3 (Dense)        (None, 128)               32896     \n",
      "_________________________________________________________________\n",
      "batch_normalization_6 (Batch (None, 128)               512       \n",
      "_________________________________________________________________\n",
      "output (Dense)               (None, 10)                1290      \n",
      "=================================================================\n",
      "Total params: 1,742,474\n",
      "Trainable params: 1,740,682\n",
      "Non-trainable params: 1,792\n",
      "_________________________________________________________________\n",
      "Train on 50000 samples, validate on 10000 samples\n",
      "Epoch 1/50\n",
      "50000/50000 [==============================] - 3s 52us/step - loss: 2.2503 - acc: 0.2688 - val_loss: 2.1687 - val_acc: 0.3166\n",
      "Epoch 2/50\n",
      "50000/50000 [==============================] - 2s 38us/step - loss: 1.7469 - acc: 0.3967 - val_loss: 1.8058 - val_acc: 0.3881\n",
      "Epoch 3/50\n",
      "50000/50000 [==============================] - 2s 39us/step - loss: 1.6157 - acc: 0.4347 - val_loss: 1.6888 - val_acc: 0.4116\n",
      "Epoch 4/50\n",
      "50000/50000 [==============================] - 2s 38us/step - loss: 1.5422 - acc: 0.4607 - val_loss: 1.6175 - val_acc: 0.4328\n",
      "Epoch 5/50\n",
      "50000/50000 [==============================] - 2s 38us/step - loss: 1.4867 - acc: 0.4815 - val_loss: 1.5931 - val_acc: 0.4369\n",
      "Epoch 6/50\n",
      "50000/50000 [==============================] - 2s 38us/step - loss: 1.4419 - acc: 0.4953 - val_loss: 1.5632 - val_acc: 0.4521\n",
      "Epoch 7/50\n",
      "50000/50000 [==============================] - 2s 39us/step - loss: 1.4018 - acc: 0.5105 - val_loss: 1.5533 - val_acc: 0.4495\n",
      "Epoch 8/50\n",
      "50000/50000 [==============================] - 2s 38us/step - loss: 1.3655 - acc: 0.5241 - val_loss: 1.5299 - val_acc: 0.4583\n",
      "Epoch 9/50\n",
      "50000/50000 [==============================] - 2s 39us/step - loss: 1.3326 - acc: 0.5351 - val_loss: 1.5094 - val_acc: 0.4686\n",
      "Epoch 10/50\n",
      "50000/50000 [==============================] - 2s 38us/step - loss: 1.3009 - acc: 0.5467 - val_loss: 1.4946 - val_acc: 0.4779\n",
      "Epoch 11/50\n",
      "50000/50000 [==============================] - 2s 38us/step - loss: 1.2719 - acc: 0.5592 - val_loss: 1.4785 - val_acc: 0.4722\n",
      "Epoch 12/50\n",
      "50000/50000 [==============================] - 2s 39us/step - loss: 1.2434 - acc: 0.5689 - val_loss: 1.4820 - val_acc: 0.4771\n",
      "Epoch 13/50\n",
      "50000/50000 [==============================] - 2s 38us/step - loss: 1.2164 - acc: 0.5780 - val_loss: 1.4723 - val_acc: 0.4789\n",
      "Epoch 14/50\n",
      "50000/50000 [==============================] - 2s 38us/step - loss: 1.1920 - acc: 0.5893 - val_loss: 1.4531 - val_acc: 0.4831\n",
      "Epoch 15/50\n",
      "50000/50000 [==============================] - 2s 39us/step - loss: 1.1670 - acc: 0.5989 - val_loss: 1.4451 - val_acc: 0.4865\n",
      "Epoch 16/50\n",
      "50000/50000 [==============================] - 2s 38us/step - loss: 1.1410 - acc: 0.6058 - val_loss: 1.4580 - val_acc: 0.4848\n",
      "Epoch 17/50\n",
      "50000/50000 [==============================] - 2s 38us/step - loss: 1.1182 - acc: 0.6162 - val_loss: 1.4439 - val_acc: 0.4920\n",
      "Epoch 18/50\n",
      "50000/50000 [==============================] - 2s 38us/step - loss: 1.0949 - acc: 0.6259 - val_loss: 1.4442 - val_acc: 0.4901\n",
      "Epoch 19/50\n",
      "50000/50000 [==============================] - 2s 38us/step - loss: 1.0725 - acc: 0.6345 - val_loss: 1.4373 - val_acc: 0.4929\n",
      "Epoch 20/50\n",
      "50000/50000 [==============================] - 2s 38us/step - loss: 1.0517 - acc: 0.6398 - val_loss: 1.4316 - val_acc: 0.4949\n",
      "Epoch 21/50\n",
      "50000/50000 [==============================] - 2s 38us/step - loss: 1.0294 - acc: 0.6508 - val_loss: 1.4417 - val_acc: 0.4896\n",
      "Epoch 22/50\n",
      "50000/50000 [==============================] - 2s 38us/step - loss: 1.0095 - acc: 0.6568 - val_loss: 1.4418 - val_acc: 0.4947\n",
      "Epoch 23/50\n",
      "50000/50000 [==============================] - 2s 38us/step - loss: 0.9873 - acc: 0.6662 - val_loss: 1.4501 - val_acc: 0.4901\n",
      "Epoch 24/50\n",
      "50000/50000 [==============================] - 2s 38us/step - loss: 0.9664 - acc: 0.6729 - val_loss: 1.4399 - val_acc: 0.4938\n",
      "Epoch 25/50\n",
      "50000/50000 [==============================] - 2s 38us/step - loss: 0.9455 - acc: 0.6830 - val_loss: 1.4561 - val_acc: 0.4960\n",
      "Epoch 26/50\n",
      "50000/50000 [==============================] - 2s 38us/step - loss: 0.9246 - acc: 0.6903 - val_loss: 1.4502 - val_acc: 0.4953\n",
      "Epoch 27/50\n",
      "50000/50000 [==============================] - 2s 38us/step - loss: 0.9041 - acc: 0.6985 - val_loss: 1.4632 - val_acc: 0.4905\n",
      "Epoch 28/50\n",
      "50000/50000 [==============================] - 2s 39us/step - loss: 0.8832 - acc: 0.7064 - val_loss: 1.4516 - val_acc: 0.4934\n",
      "Epoch 29/50\n",
      "50000/50000 [==============================] - 2s 38us/step - loss: 0.8646 - acc: 0.7140 - val_loss: 1.4609 - val_acc: 0.4946\n",
      "Epoch 30/50\n",
      "50000/50000 [==============================] - 2s 39us/step - loss: 0.8438 - acc: 0.7214 - val_loss: 1.4773 - val_acc: 0.5003\n",
      "Epoch 31/50\n",
      "50000/50000 [==============================] - 2s 39us/step - loss: 0.8256 - acc: 0.7285 - val_loss: 1.4750 - val_acc: 0.5003\n",
      "Epoch 32/50\n",
      "50000/50000 [==============================] - 2s 38us/step - loss: 0.8068 - acc: 0.7343 - val_loss: 1.4851 - val_acc: 0.4971\n",
      "Epoch 33/50\n",
      "50000/50000 [==============================] - 2s 39us/step - loss: 0.7869 - acc: 0.7448 - val_loss: 1.4836 - val_acc: 0.4979\n",
      "Epoch 34/50\n",
      "50000/50000 [==============================] - 2s 41us/step - loss: 0.7677 - acc: 0.7513 - val_loss: 1.4997 - val_acc: 0.4984\n",
      "Epoch 35/50\n",
      "50000/50000 [==============================] - 2s 39us/step - loss: 0.7484 - acc: 0.7592 - val_loss: 1.5034 - val_acc: 0.4905\n",
      "Epoch 36/50\n",
      "50000/50000 [==============================] - 2s 39us/step - loss: 0.7315 - acc: 0.7655 - val_loss: 1.5154 - val_acc: 0.4920\n",
      "Epoch 37/50\n",
      "50000/50000 [==============================] - 2s 38us/step - loss: 0.7103 - acc: 0.7750 - val_loss: 1.5046 - val_acc: 0.4979\n",
      "Epoch 38/50\n",
      "50000/50000 [==============================] - 2s 38us/step - loss: 0.6922 - acc: 0.7816 - val_loss: 1.5336 - val_acc: 0.4925\n",
      "Epoch 39/50\n",
      "50000/50000 [==============================] - 2s 38us/step - loss: 0.6729 - acc: 0.7908 - val_loss: 1.5409 - val_acc: 0.4931\n",
      "Epoch 40/50\n",
      "50000/50000 [==============================] - 2s 39us/step - loss: 0.6567 - acc: 0.7974 - val_loss: 1.5429 - val_acc: 0.4993\n",
      "Epoch 41/50\n",
      "50000/50000 [==============================] - 2s 39us/step - loss: 0.6372 - acc: 0.8049 - val_loss: 1.5407 - val_acc: 0.5008\n",
      "Epoch 42/50\n",
      "50000/50000 [==============================] - 2s 38us/step - loss: 0.6210 - acc: 0.8090 - val_loss: 1.5780 - val_acc: 0.4932\n",
      "Epoch 43/50\n",
      "50000/50000 [==============================] - 2s 38us/step - loss: 0.6041 - acc: 0.8165 - val_loss: 1.5883 - val_acc: 0.4866\n",
      "Epoch 44/50\n",
      "50000/50000 [==============================] - 2s 39us/step - loss: 0.5893 - acc: 0.8220 - val_loss: 1.5957 - val_acc: 0.4935\n",
      "Epoch 45/50\n",
      "50000/50000 [==============================] - 2s 38us/step - loss: 0.5697 - acc: 0.8294 - val_loss: 1.6002 - val_acc: 0.4880\n",
      "Epoch 00045: early stopping\n"
     ]
    },
    {
     "data": {
      "text/plain": [
       "<keras.callbacks.History at 0x164b4d47288>"
      ]
     },
     "execution_count": 13,
     "metadata": {},
     "output_type": "execute_result"
    }
   ],
   "source": [
    "earlystop = EarlyStopping(monitor=\"val_loss\", \n",
    "                          patience=25, \n",
    "                          verbose=1\n",
    "                          )\n",
    "results = {}\n",
    "\"\"\"Code Here\n",
    "撰寫你的訓練流程並將結果用 dictionary 紀錄\n",
    "\"\"\"\n",
    "model = build_mlp(input_shape=x_train.shape[1:])\n",
    "model.summary()\n",
    "optimizer = keras.optimizers.SGD(lr=LEARNING_RATE, nesterov=True, momentum=MOMENTUM)\n",
    "model.compile(loss=\"categorical_crossentropy\", metrics=[\"accuracy\"], optimizer=optimizer)\n",
    "\n",
    "model.fit(x_train, y_train, \n",
    "          epochs=EPOCHS, \n",
    "          batch_size=BATCH_SIZE, \n",
    "          validation_data=(x_test, y_test), \n",
    "          shuffle=True,\n",
    "          callbacks=[earlystop]\n",
    "         )"
   ]
  },
  {
   "cell_type": "code",
   "execution_count": 14,
   "metadata": {},
   "outputs": [
    {
     "data": {
      "image/png": "[encoded data removed]",
      "text/plain": [
       "<Figure size 432x288 with 1 Axes>"
      ]
     },
     "metadata": {
      "needs_background": "light"
     },
     "output_type": "display_data"
    },
    {
     "data": {
      "image/png": "[encoded data removed]",
      "text/plain": [
       "<Figure size 432x288 with 1 Axes>"
      ]
     },
     "metadata": {
      "needs_background": "light"
     },
     "output_type": "display_data"
    }
   ],
   "source": [
    "import matplotlib.pyplot as plt\n",
    "%matplotlib inline\n",
    "\n",
    "plt.plot(range(len(train_loss)), train_loss, label=\"train loss\")\n",
    "plt.plot(range(len(valid_loss)), valid_loss, label=\"valid loss\")\n",
    "plt.legend()\n",
    "plt.title(\"Loss\")\n",
    "plt.show()\n",
    "\n",
    "plt.plot(range(len(train_acc)), train_acc, label=\"train accuracy\")\n",
    "plt.plot(range(len(valid_acc)), valid_acc, label=\"valid accuracy\")\n",
    "plt.legend()\n",
    "plt.title(\"Accuracy\")\n",
    "plt.show()"
   ]
  },
  {
   "cell_type": "code",
   "execution_count": null,
   "metadata": {},
   "outputs": [],
   "source": []
  }
 ],
 "metadata": {
  "kernelspec": {
   "display_name": "Python 3",
   "language": "python",
   "name": "python3"
  },
  "language_info": {
   "codemirror_mode": {
    "name": "ipython",
    "version": 3
   },
   "file_extension": ".py",
   "mimetype": "text/x-python",
   "name": "python",
   "nbconvert_exporter": "python",
   "pygments_lexer": "ipython3",
   "version": "3.7.5"
  }
 },
 "nbformat": 4,
 "nbformat_minor": 2
}
