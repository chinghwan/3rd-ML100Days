{
 "cells": [
  {
   "cell_type": "markdown",
   "metadata": {},
   "source": [
    "# 作業\n",
    "* 在精簡深度學習的方式上 : 卷積類神經 (CNN) 採用像素遠近，而遞歸類神經 (RNN) 採用著則是時間遠近\n",
    "* 那麼，既然有著類似的設計精神，兩者是否有可能互換應用呢?"
   ]
  },
  {
   "cell_type": "code",
   "execution_count": null,
   "metadata": {
    "collapsed": true,
    "jupyter": {
     "outputs_hidden": true
    }
   },
   "outputs": [],
   "source": [
    "1、1D CNN 可以很好地應用於感測器資料的時間序列分析（比如陀螺儀或加速度 ... 可訓練模式的好指標，因此LSTM 網路在NLP 中的應用更有前途）\n",
    "\n",
    "2、LSTM MNIST手写数字辨识\n",
    "实际上，图片文字识别这类任务用CNN来做效果更好，但是这里想要强行用LSTM来做一波。\n",
    "MNIST_data中每一个image的大小是28*28，以行顺序作为序列输入，即第一行的28个像素作为$x_{0}\n",
    "，第二行为x_1，，第行的个像素作为x_28$输入，一个网络结构总共的输入是28个维度为28的向量，输出值是10维的向量，表示的是0-9个数字的概率值。这是一个many to one的RNN结构。\n"
   ]
  }
 ],
 "metadata": {
  "kernelspec": {
   "display_name": "Python 3",
   "language": "python",
   "name": "python3"
  },
  "language_info": {
   "codemirror_mode": {
    "name": "ipython",
    "version": 3
   },
   "file_extension": ".py",
   "mimetype": "text/x-python",
   "name": "python",
   "nbconvert_exporter": "python",
   "pygments_lexer": "ipython3",
   "version": "3.7.3"
  }
 },
 "nbformat": 4,
 "nbformat_minor": 4
}
