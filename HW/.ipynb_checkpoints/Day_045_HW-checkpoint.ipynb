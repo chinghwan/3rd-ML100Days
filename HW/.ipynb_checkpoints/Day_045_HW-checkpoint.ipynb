{
 "cells": [
  {
   "cell_type": "markdown",
   "metadata": {},
   "source": [
    "完整的 Ensemble 概念\n",
    "ML Lecture 27: Ensemble\n",
    "\n",
    "本篇為台大電機系李宏毅老師 Machine Learning (2016) 課程筆記\n",
    "上課影片：\n",
    "https://www.youtube.com/watch?v=tH9FH1DH5n0\n",
    "課程網 (投影片出處)：\n",
    "http://speech.ee.ntu.edu.tw/~tlkagk/courses_ML16.html\n",
    "\n",
    "Ensemble 方法其實就是 “團隊合作” 好幾個模型一起上的方法\n",
    "假如我們手上有一堆 Classifier ，這些 Classifier 每個都有不同的屬性，\n",
    "要把他們集合起來一起合作，集合再一起需要用比較好的方法\n",
    "們集合起來一起合作，集合再一起需要用比較好的方法\n",
    "\n",
    "\n",
    "\n",
    "以下來介紹一些 Ensemble 的方法\n",
    "\n",
    "Bagging\n",
    "\n",
    "\n",
    "\n",
    "注意：bagging 跟 boosting 使用場合不一樣\n",
    "\n",
    "先回想一下，之前在講 Regression 時，Bias 跟  Variance 是有 trade-off\n",
    "比較簡單的 model 會有 Bias 比較大，Variance 就比較小，\n",
    "比較複雜的 model 會有 Bias 小 Variance 就比較大\n",
    "兩者的組合下，error rate 隨著 model 複雜度增加逐漸下降，然後再逐漸上升 ( 因為 overfitting )，\n",
    "忘記的話可以複習這篇：https://violin-tao.blogspot.tw/2017/07/ml-regression-part-2-where-does-error.html\n",
    "\n",
    "之前的例子提過，在不同的世界裡面抓寶可夢，都會分別得到不同的模型，\n",
    "如果不同世界裡面都用很複雜的模型，variance很大，bias 小\n",
    "把不同模型的輸出，通通集合起來，做一個平均，得到一個新的模型  f-hat 可能就會跟正確的模型很接近，\n",
    "Bagging 就是要體現這件的事情！\n",
    "\n",
    "Bagging 做的事情就是：\n",
    "雖然我們不可能到不同的宇宙去蒐集 data ，但是我們可以自己創造出不同的 dataset\n",
    "再用不同 dataset 各自去 training 出複雜的 model 雖然\n",
    "隨然每一個複雜的 model 獨自拿出來看 variance 都很大，\n",
    "但是把不同的 variance 很大的 model 集合起來以後，他的  variance 就不會這麼大，且他的 bias 會是小的！\n",
    "\n",
    "\n",
    "Random Forest\n",
    "使用傳統 Bagging 的方法可以做 Random forest 但是得到的 Tree 每一科都沒差太多。\n",
    "Random Forest 比較常見的做法是\n",
    "在每一次要產生 brench 的時候，都 random 決定，哪一些 feature 或哪些 question 是不能用\n",
    "這樣的機制下，可以使得就算使用一模一樣的 dataset ，\n",
    "我們每一次產生的 Decision Tree 都是不一樣的"
   ]
  }
 ],
 "metadata": {
  "kernelspec": {
   "display_name": "Python 3",
   "language": "python",
   "name": "python3"
  },
  "language_info": {
   "codemirror_mode": {
    "name": "ipython",
    "version": 3
   },
   "file_extension": ".py",
   "mimetype": "text/x-python",
   "name": "python",
   "nbconvert_exporter": "python",
   "pygments_lexer": "ipython3",
   "version": "3.7.3"
  }
 },
 "nbformat": 4,
 "nbformat_minor": 4
}
