{
 "cells": [
  {
   "cell_type": "markdown",
   "metadata": {},
   "source": [
    "## [作業重點]\n",
    "清楚了解 L1, L2 的意義與差異為何，並了解 LASSO 與 Ridge 之間的差異與使用情境"
   ]
  },
  {
   "cell_type": "markdown",
   "metadata": {},
   "source": [
    "## 作業"
   ]
  },
  {
   "cell_type": "markdown",
   "metadata": {},
   "source": [
    "請閱讀相關文獻，並回答下列問題\n",
    "\n",
    "[脊回歸 (Ridge Regression)](https://blog.csdn.net/daunxx/article/details/51578787)\n",
    "[Linear, Ridge, Lasso Regression 本質區別](https://www.zhihu.com/question/38121173)\n",
    "\n",
    "1. LASSO 回歸可以被用來作為 Feature selection 的工具，請了解 LASSO 模型為什麼可用來作 Feature selection\n",
    "2. 當自變數 (X) 存在高度共線性時，Ridge Regression 可以處理這樣的問題嗎?\n"
   ]
  },
  {
   "cell_type": "code",
   "execution_count": null,
   "metadata": {},
   "outputs": [],
   "source": [
    "Lasso 和 Ridge 都是基于线性回归模型防止过拟合的工具。其中，Lasso 因为利用L1惩罚导致较小的回归系数将变为0，\n",
    "Ridge 因为利用L2惩罚导致所有回归系数都减小。由于Lasso会让某些回归参数为0而进行特征选取，所以工业界比较偏向Lasso回归。\n",
    "在实际利用中，只要应用Lasso 或者 Ridge，都需要对特征进行标准化。\n",
    "\n",
    "\n",
    "在《線性迴歸（Linear Regression）》中提到過，當使用最小二乘法計算線性迴歸模型參數的時候，如果數據集合矩陣（也叫做設計矩陣(design matrix)）X ，\n",
    "存在多重共線性，那麼最小二乘法對輸入變量中的噪聲非常的敏感，其解會極爲不穩定。爲了解決這個問題，就有了這一節脊迴歸（Ridge Regression ）。\n",
    "\n",
    " "
   ]
  }
 ],
 "metadata": {
  "kernelspec": {
   "display_name": "Python 3",
   "language": "python",
   "name": "python3"
  },
  "language_info": {
   "codemirror_mode": {
    "name": "ipython",
    "version": 3
   },
   "file_extension": ".py",
   "mimetype": "text/x-python",
   "name": "python",
   "nbconvert_exporter": "python",
   "pygments_lexer": "ipython3",
   "version": "3.7.3"
  }
 },
 "nbformat": 4,
 "nbformat_minor": 4
}
