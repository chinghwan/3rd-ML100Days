{
 "cells": [
  {
   "cell_type": "markdown",
   "metadata": {},
   "source": [
    "## [作業目標]\n",
    "了解機器學習適合應用的領域與範疇。"
   ]
  },
  {
   "cell_type": "markdown",
   "metadata": {},
   "source": [
    "## [作業重點]\n",
    "透過瞭解機器學習的運作方式，找出非常適用機器學習應用的領域及其原因"
   ]
  },
  {
   "cell_type": "markdown",
   "metadata": {},
   "source": [
    "## 作業\n",
    "請找出一個你認為機器學習可以發光發熱的領域並闡述原因? "
   ]
  },
  {
   "cell_type": "markdown",
   "metadata": {},
   "source": [
    "## 精準醫療\n",
    "將每位病患獨特的基因組成、環境因素、生活模式和家族史納入考量，進而提高診斷的準確度，提供個人化的疾病治療和預防計畫。\n",
    "\n",
    "醫療產業可望更加善用新的基因體資料模型，改變各種病況的照護方式，從癌症、高脂血症、糖尿病、腎臟病到神經發展疾患不一而足，\n",
    "最終目標是提高診斷和治療的準確度和效果，同時把知識分享給研究社群和藥物基因體學者。\n",
    "\n",
    "機器學習亦有助於分析病患資料，把資料化為洞見和可行的資訊，如今已可比較血糖、BMI、年齡等風險因子，分析治療效果，\n",
    "當醫生能夠針對個別病患設計治療計畫，就可以參考其他類似病患，事先確認治療是否會有效，未來還會進一步研發演算法來辨識或預測風險族群。"
   ]
  }
 ],
 "metadata": {
  "kernelspec": {
   "display_name": "Python 3",
   "language": "python",
   "name": "python3"
  },
  "language_info": {
   "codemirror_mode": {
    "name": "ipython",
    "version": 3
   },
   "file_extension": ".py",
   "mimetype": "text/x-python",
   "name": "python",
   "nbconvert_exporter": "python",
   "pygments_lexer": "ipython3",
   "version": "3.7.3"
  }
 },
 "nbformat": 4,
 "nbformat_minor": 2
}
