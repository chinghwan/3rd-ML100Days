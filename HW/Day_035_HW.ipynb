{
 "cells": [
  {
   "cell_type": "markdown",
   "metadata": {},
   "source": [
    "## 練習時間\n",
    "相信大家對回歸問題及分類問題都有初步的了解。今天的作業希望大家搜尋有關 multi-label 的案例問題。下圖是電影 \"奇異博士\" 的分類。可以看到同時有 \"Action\", \"Adventure\", \"Fantasy\" 的類別存在，代表這是個多標籤的問題。 "
   ]
  },
  {
   "cell_type": "markdown",
   "metadata": {},
   "source": [
    "![image](https://cdn-images-1.medium.com/max/1000/1*r0gYXMSQf5VhdMyl2bRDyg.png)"
   ]
  },
  {
   "cell_type": "markdown",
   "metadata": {},
   "source": [
    "## 請搜尋目標為多標籤問題 (Multi-label) 的機器學習案例，了解其資料來源、目標以及評估指標為何\n",
    "## Hint: 服飾"
   ]
  },
  {
   "cell_type": "markdown",
   "metadata": {},
   "source": [
    "multi-class 和 multi-label的區別\n",
    "multi-class是相對於binary二分類來說的，意思是需要分類的東西不止有兩個類別，可能是3個類別取一個（如iris分類），或者是10個類別取一個（如手寫數字識別mnist）。\n",
    "\n",
    "而multi-label是更加general的一種情況了，它說為什麼一個sample的標籤只能有1個呢。為什麼一張圖片不是貓就是狗呢？難道我不能訓練一個人工智慧，它能告訴我這張圖片既有貓又有狗呢？"
   ]
  },
  {
   "cell_type": "code",
   "execution_count": null,
   "metadata": {},
   "outputs": [],
   "source": [
    "https://kknews.cc/zh-tw/code/ygpkm4j.html\n",
    "客戶上傳:\n",
    "    \n",
    "    問題是我需要訓練一個分類器來將物品分到不同的類別中\n",
    "問題是我需要訓練一個分類器來將物品分到不同的類別中\n",
    "\n",
    "資料來源:https://www.kaggle.com/c/wise-2014/data\n",
    "\n",
    "数据描述\n",
    "这个文本数据集已经用词袋模型进行形式化表示，共201561个特征词，每个文本对应一个或多个标签，共203个分类标签。该网站提供了两种数据格式：ARFF和LIBSVM,ARFF格式的数据主要适用于weka，而LIBSVM格式适用于matlab中的LIBSVM模块。这里，我们采用LIBSVM格式的数据。\n",
    "\n",
    "数据的每一行以逗号分隔的整数序列开头，代表类别标签。紧接着是以\\t分隔的id:value对。其中，id为特征词的ID，value为特征词在该文档中的TF-IDF值。\n",
    "    \n",
    "    \n",
    "    目的是預測測試集中的相關標籤，保留其中商品的標籤。\n",
    "   評估指標:  Mean F1-Score\n",
    "    \n",
    "\n",
    " "
   ]
  }
 ],
 "metadata": {
  "kernelspec": {
   "display_name": "Python 3",
   "language": "python",
   "name": "python3"
  },
  "language_info": {
   "codemirror_mode": {
    "name": "ipython",
    "version": 3
   },
   "file_extension": ".py",
   "mimetype": "text/x-python",
   "name": "python",
   "nbconvert_exporter": "python",
   "pygments_lexer": "ipython3",
   "version": "3.7.3"
  }
 },
 "nbformat": 4,
 "nbformat_minor": 4
}
